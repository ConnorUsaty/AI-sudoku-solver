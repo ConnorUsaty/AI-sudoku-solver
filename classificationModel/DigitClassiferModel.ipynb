{
 "cells": [
  {
   "cell_type": "code",
   "execution_count": 1,
   "id": "8d840b15-f8ad-4704-aa03-31a121b3010b",
   "metadata": {},
   "outputs": [],
   "source": [
    "# Create venv to fix import / dependency issues\n",
    "!activate mldevenvver3-9-19"
   ]
  },
  {
   "cell_type": "code",
   "execution_count": 2,
   "id": "dbdcf669-0fbf-4e3a-b384-3919ab811a3c",
   "metadata": {},
   "outputs": [],
   "source": [
    "# !pip install tensorflow"
   ]
  },
  {
   "cell_type": "code",
   "execution_count": 3,
   "id": "fd13e2b0-641a-415c-a162-25f1a836c1fc",
   "metadata": {},
   "outputs": [],
   "source": [
    "import tensorflow as tf\n",
    "from tensorflow.keras import datasets, layers, models\n",
    "import keras"
   ]
  },
  {
   "cell_type": "code",
   "execution_count": 4,
   "id": "e286efeb-fcbb-4530-8f59-f4e82fa52fb3",
   "metadata": {},
   "outputs": [],
   "source": [
    "# Load dataset and split into test and train -> X = input (images), y = output (labels, i.e. \"7\")\n",
    "mnist = tf.keras.datasets.mnist\n",
    "(X_train, y_train), (X_test, y_test) = mnist.load_data()"
   ]
  },
  {
   "cell_type": "code",
   "execution_count": 5,
   "id": "4c0d6190-e740-4511-a712-05830511b070",
   "metadata": {},
   "outputs": [],
   "source": [
    "# Normalize the images grayscale from 0-255 to 0-1 scale\n",
    "X_train, X_test = X_train/255.0, X_test/255.0\n",
    "\n",
    "# Reshape images to fit the CNN input requirements\n",
    "X_train = X_train.reshape((60000, 28, 28, 1)) # 60000 images, 28x28 pixels, 1 colour channel (grayscale)\n",
    "X_test = X_test.reshape((10000, 28, 28, 1))   # 10000 images, 28x28 pixels, 1 colour channel (grayscale)"
   ]
  },
  {
   "cell_type": "code",
   "execution_count": 6,
   "id": "d6a673df-e22b-4f94-bbf2-1c2fd1aa0802",
   "metadata": {},
   "outputs": [],
   "source": [
    "# Define the CNN model\n",
    "model = models.Sequential([\n",
    "    layers.InputLayer(shape=(28, 28, 1)),\n",
    "    \n",
    "    layers.Conv2D(32, (3, 3), activation='relu'),\n",
    "    layers.MaxPooling2D((2, 2)),\n",
    "    layers.Conv2D(64, (3, 3), activation='relu'),\n",
    "    layers.MaxPooling2D((2, 2)),\n",
    "    layers.Conv2D(64, (3, 3), activation='relu'),\n",
    "    \n",
    "    layers.Flatten(),\n",
    "    layers.Dense(64, activation='relu'),\n",
    "    layers.Dense(10, activation='softmax')\n",
    "])"
   ]
  },
  {
   "cell_type": "code",
   "execution_count": 7,
   "id": "78b7558a-90fe-42d7-800e-3fe4896c1e6b",
   "metadata": {},
   "outputs": [],
   "source": [
    "# Compile model\n",
    "model.compile(optimizer='adam', loss='sparse_categorical_crossentropy', metrics=['accuracy'])"
   ]
  },
  {
   "cell_type": "code",
   "execution_count": 8,
   "id": "a4a08299-1d29-4fd1-937f-3265b2839d97",
   "metadata": {},
   "outputs": [
    {
     "name": "stdout",
     "output_type": "stream",
     "text": [
      "Epoch 1/10\n",
      "\u001b[1m1875/1875\u001b[0m \u001b[32m━━━━━━━━━━━━━━━━━━━━\u001b[0m\u001b[37m\u001b[0m \u001b[1m16s\u001b[0m 8ms/step - accuracy: 0.8975 - loss: 0.3327 - val_accuracy: 0.9840 - val_loss: 0.0479\n",
      "Epoch 2/10\n",
      "\u001b[1m1875/1875\u001b[0m \u001b[32m━━━━━━━━━━━━━━━━━━━━\u001b[0m\u001b[37m\u001b[0m \u001b[1m14s\u001b[0m 7ms/step - accuracy: 0.9848 - loss: 0.0509 - val_accuracy: 0.9836 - val_loss: 0.0497\n",
      "Epoch 3/10\n",
      "\u001b[1m1875/1875\u001b[0m \u001b[32m━━━━━━━━━━━━━━━━━━━━\u001b[0m\u001b[37m\u001b[0m \u001b[1m14s\u001b[0m 7ms/step - accuracy: 0.9892 - loss: 0.0332 - val_accuracy: 0.9887 - val_loss: 0.0331\n",
      "Epoch 4/10\n",
      "\u001b[1m1875/1875\u001b[0m \u001b[32m━━━━━━━━━━━━━━━━━━━━\u001b[0m\u001b[37m\u001b[0m \u001b[1m14s\u001b[0m 8ms/step - accuracy: 0.9922 - loss: 0.0249 - val_accuracy: 0.9894 - val_loss: 0.0326\n",
      "Epoch 5/10\n",
      "\u001b[1m1875/1875\u001b[0m \u001b[32m━━━━━━━━━━━━━━━━━━━━\u001b[0m\u001b[37m\u001b[0m \u001b[1m14s\u001b[0m 7ms/step - accuracy: 0.9939 - loss: 0.0168 - val_accuracy: 0.9908 - val_loss: 0.0297\n",
      "Epoch 6/10\n",
      "\u001b[1m1875/1875\u001b[0m \u001b[32m━━━━━━━━━━━━━━━━━━━━\u001b[0m\u001b[37m\u001b[0m \u001b[1m14s\u001b[0m 8ms/step - accuracy: 0.9954 - loss: 0.0142 - val_accuracy: 0.9925 - val_loss: 0.0242\n",
      "Epoch 7/10\n",
      "\u001b[1m1875/1875\u001b[0m \u001b[32m━━━━━━━━━━━━━━━━━━━━\u001b[0m\u001b[37m\u001b[0m \u001b[1m14s\u001b[0m 7ms/step - accuracy: 0.9967 - loss: 0.0105 - val_accuracy: 0.9928 - val_loss: 0.0257\n",
      "Epoch 8/10\n",
      "\u001b[1m1875/1875\u001b[0m \u001b[32m━━━━━━━━━━━━━━━━━━━━\u001b[0m\u001b[37m\u001b[0m \u001b[1m14s\u001b[0m 7ms/step - accuracy: 0.9972 - loss: 0.0089 - val_accuracy: 0.9920 - val_loss: 0.0305\n",
      "Epoch 9/10\n",
      "\u001b[1m1875/1875\u001b[0m \u001b[32m━━━━━━━━━━━━━━━━━━━━\u001b[0m\u001b[37m\u001b[0m \u001b[1m14s\u001b[0m 7ms/step - accuracy: 0.9973 - loss: 0.0093 - val_accuracy: 0.9919 - val_loss: 0.0359\n",
      "Epoch 9: early stopping\n",
      "Restoring model weights from the end of the best epoch: 7.\n"
     ]
    }
   ],
   "source": [
    "# Set up early stopping callback to prevent overfitting\n",
    "earlyStop = keras.callbacks.EarlyStopping(monitor='val_accuracy', mode='max', patience=2, restore_best_weights=True, verbose=1)\n",
    "\n",
    "# Train model\n",
    "history = model.fit(X_train, y_train, epochs=10, validation_data=(X_test, y_test), callbacks=[earlyStop])"
   ]
  },
  {
   "cell_type": "code",
   "execution_count": 9,
   "id": "2e8a1c84-5101-4350-98fe-f55f0c42a1a5",
   "metadata": {},
   "outputs": [
    {
     "name": "stdout",
     "output_type": "stream",
     "text": [
      "Test accuracy: 0.9927999973297119, Test loss: 0.02574526146054268\n"
     ]
    }
   ],
   "source": [
    "# Evaluate the model\n",
    "test_loss, test_acc = model.evaluate(X_test, y_test, verbose=0)\n",
    "\n",
    "print(f'Test accuracy: {test_acc}, Test loss: {test_loss}')"
   ]
  },
  {
   "cell_type": "code",
   "execution_count": 10,
   "id": "be068968-b652-401d-8417-e915caef1acc",
   "metadata": {},
   "outputs": [],
   "source": [
    "# Visually validate model"
   ]
  }
 ],
 "metadata": {
  "kernelspec": {
   "display_name": "Python 3 (ipykernel)",
   "language": "python",
   "name": "python3"
  },
  "language_info": {
   "codemirror_mode": {
    "name": "ipython",
    "version": 3
   },
   "file_extension": ".py",
   "mimetype": "text/x-python",
   "name": "python",
   "nbconvert_exporter": "python",
   "pygments_lexer": "ipython3",
   "version": "3.12.4"
  }
 },
 "nbformat": 4,
 "nbformat_minor": 5
}
